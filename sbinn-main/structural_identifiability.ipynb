{
 "cells": [
  {
   "cell_type": "code",
   "execution_count": null,
   "id": "eb20974e",
   "metadata": {},
   "outputs": [],
   "source": [
    "### For first-time users, the StructuralIdentifiability package can be installed by the following command\n",
    "\n",
    "#using Pkg\n",
    "#Pkg.add(\"StructuralIdentifiability\")\n",
    "\n",
    "using StructuralIdentifiability"
   ]
  },
  {
   "cell_type": "code",
   "execution_count": null,
   "id": "3a69b644",
   "metadata": {},
   "outputs": [],
   "source": [
    "# Given G, infer all parameters case\n",
    "ode = @ODEmodel(\n",
    "    Ip'(t) = 209 / g1(t) - E * (Ip(t) / Vp - Ii(t) / Vi) - Ip(t) / tp,\n",
    "    Ii'(t) = E * (Ip(t) / Vp - Ii(t) / Vi) - Ii(t) / ti,\n",
    "    G'(t) = Rg / g4(t) + IG(t) - Ub * g2(t) - (U0 + Um / g3(t)) / Vg / 100 * G(t),\n",
    "    h1'(t) = (Ip(t) - h1(t)) / td,\n",
    "    h2'(t) = (h1(t) - h2(t)) / td,\n",
    "    h3'(t) = (h2(t) - h3(t)) / td,\n",
    "    g1'(t) = -(g1(t)-1)/Vg/C1*(Rg / g4(t) + IG(t) - Ub * g2(t) - (U0 + Um / g3(t)) / Vg / 100 * G(t)),\n",
    "    g2'(t) = -(g2(t)-1)/Vg/C2*(Rg / g4(t) + IG(t) - Ub * g2(t) - (U0 + Um / g3(t)) / Vg / 100 * G(t)),\n",
    "    g3'(t) = -beta*(g3(t)-1)/Ii(t)*(E * (Ip(t) / Vp - Ii(t) / Vi) - Ii(t) / ti),\n",
    "    g4'(t) = alpha / 26 / Vp * (g4(t)-1) * (h2(t) - h3(t)) / td,\n",
    "    y(t) = G(t)\n",
    ")"
   ]
  },
  {
   "cell_type": "code",
   "execution_count": null,
   "id": "38dbd406",
   "metadata": {},
   "outputs": [],
   "source": [
    "# Given G, I_p, I_i, infer all parameters case\n",
    "ode2 = @ODEmodel(\n",
    "    Ip'(t) = 209 / g1(t) - E * (Ip(t) / Vp - Ii(t) / Vi) - Ip(t) / tp,\n",
    "    Ii'(t) = E * (Ip(t) / Vp - Ii(t) / Vi) - Ii(t) / ti,\n",
    "    G'(t) = Rg / g4(t) + IG(t) - Ub * g2(t) - (U0 + Um / g3(t)) / Vg / 100 * G(t),\n",
    "    h1'(t) = (Ip(t) - h1(t)) / td,\n",
    "    h2'(t) = (h1(t) - h2(t)) / td,\n",
    "    h3'(t) = (h2(t) - h3(t)) / td,\n",
    "    g1'(t) = -(g1(t)-1)/Vg/C1*(Rg / g4(t) + IG(t) - Ub * g2(t) - (U0 + Um / g3(t)) / Vg / 100 * G(t)),\n",
    "    g2'(t) = -(g2(t)-1)/Vg/C2*(Rg / g4(t) + IG(t) - Ub * g2(t) - (U0 + Um / g3(t)) / Vg / 100 * G(t)),\n",
    "    g3'(t) = -beta*(g3(t)-1)/Ii(t)*(E * (Ip(t) / Vp - Ii(t) / Vi) - Ii(t) / ti),\n",
    "    g4'(t) = alpha / 26 / Vp * (g4(t)-1) * (h2(t) - h3(t)) / td,\n",
    "    y1(t) = G(t),\n",
    "    y2(t) = Ii(t),\n",
    "    y3(t) = Ip(t)\n",
    ")"
   ]
  },
  {
   "cell_type": "code",
   "execution_count": null,
   "id": "a51eb50b",
   "metadata": {},
   "outputs": [],
   "source": [
    "# Given G, fix V_p case\n",
    "ode3 = @ODEmodel(\n",
    "    Ip'(t) = 209 / g1(t) - E * (Ip(t) / 3 - Ii(t) / Vi) - Ip(t) / tp,\n",
    "    Ii'(t) = E * (Ip(t) / 3 - Ii(t) / Vi) - Ii(t) / ti,\n",
    "    G'(t) = Rg / g4(t) + IG(t) - Ub * g2(t) - (U0 + Um / g3(t)) / Vg / 100 * G(t),\n",
    "    h1'(t) = (Ip(t) - h1(t)) / td,\n",
    "    h2'(t) = (h1(t) - h2(t)) / td,\n",
    "    h3'(t) = (h2(t) - h3(t)) / td,\n",
    "    g1'(t) = -(g1(t)-1)/Vg/C1*(Rg / g4(t) + IG(t) - Ub * g2(t) - (U0 + Um / g3(t)) / Vg / 100 * G(t)),\n",
    "    g2'(t) = -(g2(t)-1)/Vg/C2*(Rg / g4(t) + IG(t) - Ub * g2(t) - (U0 + Um / g3(t)) / Vg / 100 * G(t)),\n",
    "    g3'(t) = -beta*(g3(t)-1)/Ii(t)*(E * (Ip(t) / 3 - Ii(t) / Vi) - Ii(t) / ti),\n",
    "    g4'(t) = alpha / 26 / 3 * (g4(t)-1) * (h2(t) - h3(t)) / td,\n",
    "    y(t) = G(t)\n",
    ")"
   ]
  },
  {
   "cell_type": "code",
   "execution_count": null,
   "id": "9359b5b1",
   "metadata": {},
   "outputs": [],
   "source": [
    "# Given G, fix V_p, V_i case\n",
    "ode4 = @ODEmodel(\n",
    "    Ip'(t) = 209 / g1(t) - E * (Ip(t) / 3 - Ii(t) / 11) - Ip(t) / tp,\n",
    "    Ii'(t) = E * (Ip(t) / 3 - Ii(t) / 11) - Ii(t) / ti,\n",
    "    G'(t) = Rg / g4(t) + IG(t) - Ub * g2(t) - (U0 + Um / g3(t)) / Vg / 100 * G(t),\n",
    "    h1'(t) = (Ip(t) - h1(t)) / td,\n",
    "    h2'(t) = (h1(t) - h2(t)) / td,\n",
    "    h3'(t) = (h2(t) - h3(t)) / td,\n",
    "    g1'(t) = -(g1(t)-1)/Vg/C1*(Rg / g4(t) + IG(t) - Ub * g2(t) - (U0 + Um / g3(t)) / Vg / 100 * G(t)),\n",
    "    g2'(t) = -(g2(t)-1)/Vg/C2*(Rg / g4(t) + IG(t) - Ub * g2(t) - (U0 + Um / g3(t)) / Vg / 100 * G(t)),\n",
    "    g3'(t) = -beta*(g3(t)-1)/Ii(t)*(E * (Ip(t) / 3 - Ii(t) / 11) - Ii(t) / ti),\n",
    "    g4'(t) = alpha / 26 / 3 * (g4(t)-1) * (h2(t) - h3(t)) / td,\n",
    "    y(t) = G(t)\n",
    ")"
   ]
  },
  {
   "cell_type": "code",
   "execution_count": null,
   "id": "f124883a",
   "metadata": {},
   "outputs": [],
   "source": [
    "# Given G, fix V_p, V_i, V_g case\n",
    "ode5 = @ODEmodel(\n",
    "    Ip'(t) = 209 / g1(t) - E * (Ip(t) / 3 - Ii(t) / 11) - Ip(t) / tp,\n",
    "    Ii'(t) = E * (Ip(t) / 3 - Ii(t) / 11) - Ii(t) / ti,\n",
    "    G'(t) = Rg / g4(t) + IG(t) - Ub * g2(t) - (U0 + Um / g3(t)) / 10 / 100 * G(t),\n",
    "    h1'(t) = (Ip(t) - h1(t)) / td,\n",
    "    h2'(t) = (h1(t) - h2(t)) / td,\n",
    "    h3'(t) = (h2(t) - h3(t)) / td,\n",
    "    g1'(t) = -(g1(t)-1)/10/C1*(Rg / g4(t) + IG(t) - Ub * g2(t) - (U0 + Um / g3(t)) / 10 / 100 * G(t)),\n",
    "    g2'(t) = -(g2(t)-1)/10/C2*(Rg / g4(t) + IG(t) - Ub * g2(t) - (U0 + Um / g3(t)) / 10 / 100 * G(t)),\n",
    "    g3'(t) = -beta*(g3(t)-1)/Ii(t)*(E * (Ip(t) / 3 - Ii(t) / 11) - Ii(t) / ti),\n",
    "    g4'(t) = alpha / 26 / 3 * (g4(t)-1) * (h2(t) - h3(t)) / td,\n",
    "    y(t) = G(t)\n",
    ")"
   ]
  },
  {
   "cell_type": "code",
   "execution_count": null,
   "id": "5481526f",
   "metadata": {},
   "outputs": [],
   "source": [
    "print(assess_local_identifiability(ode))"
   ]
  },
  {
   "cell_type": "code",
   "execution_count": null,
   "id": "faf02634",
   "metadata": {},
   "outputs": [],
   "source": [
    "print(assess_local_identifiability(ode2))"
   ]
  },
  {
   "cell_type": "code",
   "execution_count": null,
   "id": "16bb36a1",
   "metadata": {},
   "outputs": [],
   "source": [
    "print(assess_local_identifiability(ode3))"
   ]
  },
  {
   "cell_type": "code",
   "execution_count": null,
   "id": "1e4107a0",
   "metadata": {},
   "outputs": [],
   "source": [
    "print(assess_local_identifiability(ode4))"
   ]
  },
  {
   "cell_type": "code",
   "execution_count": null,
   "id": "258e044f",
   "metadata": {},
   "outputs": [],
   "source": [
    "print(assess_local_identifiability(ode5))"
   ]
  }
 ],
 "metadata": {
  "kernelspec": {
   "display_name": "Julia 1.6.3",
   "language": "julia",
   "name": "julia-1.6"
  },
  "language_info": {
   "file_extension": ".jl",
   "mimetype": "application/julia",
   "name": "julia",
   "version": "1.6.3"
  }
 },
 "nbformat": 4,
 "nbformat_minor": 5
}
